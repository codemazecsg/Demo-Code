{
    "metadata": {
        "kernelspec": {
            "name": "SQL",
            "display_name": "SQL",
            "language": "sql"
        },
        "language_info": {
            "name": "sql",
            "version": ""
        }
    },
    "nbformat_minor": 2,
    "nbformat": 4,
    "cells": [
        {
            "cell_type": "markdown",
            "source": [
                "Clean-up"
            ],
            "metadata": {
                "azdata_cell_guid": "003274b5-2a4f-4bca-8229-8ab6f4686efb"
            }
        },
        {
            "cell_type": "code",
            "source": [
                "use master;\r\n",
                "\r\n",
                "if exists (select * from sys.databases where name = 'CustomerHoldings')\r\n",
                "    drop database CustomerHoldings;"
            ],
            "metadata": {
                "azdata_cell_guid": "b0294f67-fd0b-42bd-9c54-14be59c9bcba"
            },
            "outputs": [
                {
                    "output_type": "display_data",
                    "data": {
                        "text/html": "Commands completed successfully."
                    },
                    "metadata": {}
                },
                {
                    "output_type": "display_data",
                    "data": {
                        "text/html": "Total execution time: 00:00:00.151"
                    },
                    "metadata": {}
                }
            ],
            "execution_count": 1
        },
        {
            "cell_type": "markdown",
            "source": [
                "Create Sample Database"
            ],
            "metadata": {
                "azdata_cell_guid": "f4a0d8d1-65ea-4d6f-bc71-a3a602d172f0"
            }
        },
        {
            "cell_type": "code",
            "source": [
                "create database CustomerHoldings"
            ],
            "metadata": {
                "azdata_cell_guid": "a8611255-1f44-49f3-8081-6e1b9b71c622"
            },
            "outputs": [
                {
                    "output_type": "display_data",
                    "data": {
                        "text/html": "Commands completed successfully."
                    },
                    "metadata": {}
                },
                {
                    "output_type": "display_data",
                    "data": {
                        "text/html": "Total execution time: 00:00:00.618"
                    },
                    "metadata": {}
                }
            ],
            "execution_count": 2
        },
        {
            "cell_type": "markdown",
            "source": [
                "Create sample tables"
            ],
            "metadata": {
                "azdata_cell_guid": "cd3a8d23-8dc4-4262-b952-f36b000b0c2a"
            }
        },
        {
            "cell_type": "code",
            "source": [
                "use CustomerHoldings;\r\n",
                "\r\n",
                "create table Portfolios\r\n",
                "(\r\n",
                "    PortfolioID int identity(10001,1) primary key,\r\n",
                "    CustomerName nvarchar(50)\r\n",
                ");\r\n",
                "\r\n",
                "create table Holdings\r\n",
                "(\r\n",
                "    HoldingID int identity(1,1) primary key,\r\n",
                "    PortfolioID int foreign key references Portfolios(PortfolioID),\r\n",
                "    TickerSymbol nvarchar(50),\r\n",
                "    Quantity int\r\n",
                ")"
            ],
            "metadata": {
                "azdata_cell_guid": "b5c87064-6cc6-4069-a46c-22db3ea9cfb2"
            },
            "outputs": [
                {
                    "output_type": "display_data",
                    "data": {
                        "text/html": "Commands completed successfully."
                    },
                    "metadata": {}
                },
                {
                    "output_type": "display_data",
                    "data": {
                        "text/html": "Total execution time: 00:00:00.033"
                    },
                    "metadata": {}
                }
            ],
            "execution_count": 3
        },
        {
            "cell_type": "markdown",
            "source": [
                "Load Sample Data into tables"
            ],
            "metadata": {
                "azdata_cell_guid": "9ec5f162-f367-480b-b06b-df69427a7a31"
            }
        },
        {
            "cell_type": "code",
            "source": [
                "set nocount on;\r\n",
                "\r\n",
                "insert into Portfolios values ('Jack Smith');\r\n",
                "insert into Portfolios values ('Jane Doe');\r\n",
                "insert into Holdings values (10001, 'MSFT', 150);\r\n",
                "insert into Holdings values (10001, 'GOOG', 100);\r\n",
                "insert into Holdings values (10001, 'GM', 100);\r\n",
                "insert into Holdings values (10002, 'MSFT', 200);\r\n",
                "insert into Holdings values (10002, 'AMZN', 100);\r\n",
                "insert into Holdings values (10002, 'KO', 300);\r\n",
                ""
            ],
            "metadata": {
                "azdata_cell_guid": "9dc64548-0e8f-4dec-8ed5-03a271532e65"
            },
            "outputs": [
                {
                    "output_type": "display_data",
                    "data": {
                        "text/html": "Commands completed successfully."
                    },
                    "metadata": {}
                },
                {
                    "output_type": "display_data",
                    "data": {
                        "text/html": "Total execution time: 00:00:00.071"
                    },
                    "metadata": {}
                }
            ],
            "execution_count": 4
        },
        {
            "cell_type": "markdown",
            "source": [
                "Testing FOR XML"
            ],
            "metadata": {
                "azdata_cell_guid": "9b9e8f54-83e2-40b5-a27a-e2474a70c42b"
            }
        },
        {
            "cell_type": "code",
            "source": [
                "select\r\n",
                "    PortfolioId,\r\n",
                "    ( select p1.CustomerName from Portfolios p1 where PortfolioID = Portfolio.PortfolioId for xml auto, elements xsinil, type).query('for $p in /p1/* return <Customer>{ data($p) }</Customer>'),\r\n",
                "    ( select Holding.tickerSymbol, Holding.Quantity from Holdings Holding where Holding.PortfolioID = Portfolio.PortfolioId for xml auto, elements, type, root('Holdings'))\r\n",
                "from Portfolios Portfolio\r\n",
                "for xml auto, type, Root('Portfolios')\r\n",
                ""
            ],
            "metadata": {
                "azdata_cell_guid": "a49eb590-3fcf-4e30-8ab1-1bf6628f9234",
                "tags": []
            },
            "outputs": [
                {
                    "output_type": "display_data",
                    "data": {
                        "text/html": "Commands completed successfully."
                    },
                    "metadata": {}
                },
                {
                    "output_type": "display_data",
                    "data": {
                        "text/html": "Total execution time: 00:00:00.055"
                    },
                    "metadata": {}
                },
                {
                    "output_type": "execute_result",
                    "metadata": {},
                    "execution_count": 5,
                    "data": {
                        "application/vnd.dataresource+json": {
                            "schema": {
                                "fields": [
                                    {
                                        "name": "(No column name)"
                                    }
                                ]
                            },
                            "data": [
                                {
                                    "0": "<Portfolios><Portfolio PortfolioId=\"10001\"><Customer>Jack Smith</Customer><Holdings><Holding><tickerSymbol>MSFT</tickerSymbol><Quantity>150</Quantity></Holding><Holding><tickerSymbol>GOOG</tickerSymbol><Quantity>100</Quantity></Holding><Holding><tickerSymbol>GM</tickerSymbol><Quantity>100</Quantity></Holding></Holdings></Portfolio><Portfolio PortfolioId=\"10002\"><Customer>Jane Doe</Customer><Holdings><Holding><tickerSymbol>MSFT</tickerSymbol><Quantity>200</Quantity></Holding><Holding><tickerSymbol>AMZN</tickerSymbol><Quantity>100</Quantity></Holding><Holding><tickerSymbol>KO</tickerSymbol><Quantity>300</Quantity></Holding></Holdings></Portfolio></Portfolios>"
                                }
                            ]
                        },
                        "text/html": "<table><tr><th>(No column name)</th></tr><tr><td>&lt;Portfolios&gt;&lt;Portfolio PortfolioId=&quot;10001&quot;&gt;&lt;Customer&gt;Jack Smith&lt;/Customer&gt;&lt;Holdings&gt;&lt;Holding&gt;&lt;tickerSymbol&gt;MSFT&lt;/tickerSymbol&gt;&lt;Quantity&gt;150&lt;/Quantity&gt;&lt;/Holding&gt;&lt;Holding&gt;&lt;tickerSymbol&gt;GOOG&lt;/tickerSymbol&gt;&lt;Quantity&gt;100&lt;/Quantity&gt;&lt;/Holding&gt;&lt;Holding&gt;&lt;tickerSymbol&gt;GM&lt;/tickerSymbol&gt;&lt;Quantity&gt;100&lt;/Quantity&gt;&lt;/Holding&gt;&lt;/Holdings&gt;&lt;/Portfolio&gt;&lt;Portfolio PortfolioId=&quot;10002&quot;&gt;&lt;Customer&gt;Jane Doe&lt;/Customer&gt;&lt;Holdings&gt;&lt;Holding&gt;&lt;tickerSymbol&gt;MSFT&lt;/tickerSymbol&gt;&lt;Quantity&gt;200&lt;/Quantity&gt;&lt;/Holding&gt;&lt;Holding&gt;&lt;tickerSymbol&gt;AMZN&lt;/tickerSymbol&gt;&lt;Quantity&gt;100&lt;/Quantity&gt;&lt;/Holding&gt;&lt;Holding&gt;&lt;tickerSymbol&gt;KO&lt;/tickerSymbol&gt;&lt;Quantity&gt;300&lt;/Quantity&gt;&lt;/Holding&gt;&lt;/Holdings&gt;&lt;/Portfolio&gt;&lt;/Portfolios&gt;</td></tr></table>"
                    }
                }
            ],
            "execution_count": 5
        },
        {
            "cell_type": "code",
            "source": [
                "select \n",
                "    Portfolios.PortfolioId,\n",
                "    Portfolios.CustomerName,\n",
                "    Holdings.Tickersymbol,\n",
                "    Holdings.Quantity\n",
                "from Portfolios\n",
                "inner join Holdings\n",
                "on Portfolios.PortfolioId = Holdings.PortfolioId\n",
                "for json auto, root('Portfolios');"
            ],
            "metadata": {
                "azdata_cell_guid": "89f2dae9-be7d-4935-84f8-fd75958b99aa"
            },
            "outputs": [
                {
                    "output_type": "display_data",
                    "data": {
                        "text/html": "Commands completed successfully."
                    },
                    "metadata": {}
                },
                {
                    "output_type": "display_data",
                    "data": {
                        "text/html": "Total execution time: 00:00:00.039"
                    },
                    "metadata": {}
                },
                {
                    "output_type": "execute_result",
                    "metadata": {},
                    "execution_count": 6,
                    "data": {
                        "application/vnd.dataresource+json": {
                            "schema": {
                                "fields": [
                                    {
                                        "name": "JSON_F52E2B61-18A1-11d1-B105-00805F49916B"
                                    }
                                ]
                            },
                            "data": [
                                {
                                    "0": "{\"Portfolios\":[{\"PortfolioId\":10001,\"CustomerName\":\"Jack Smith\",\"Holdings\":[{\"Tickersymbol\":\"MSFT\",\"Quantity\":150},{\"Tickersymbol\":\"GOOG\",\"Quantity\":100},{\"Tickersymbol\":\"GM\",\"Quantity\":100}]},{\"PortfolioId\":10002,\"CustomerName\":\"Jane Doe\",\"Holdings\":[{\"Tickersymbol\":\"MSFT\",\"Quantity\":200},{\"Tickersymbol\":\"AMZN\",\"Quantity\":100},{\"Tickersymbol\":\"KO\",\"Quantity\":300}]}]}"
                                }
                            ]
                        },
                        "text/html": "<table><tr><th>JSON_F52E2B61-18A1-11d1-B105-00805F49916B</th></tr><tr><td>{&quot;Portfolios&quot;:[{&quot;PortfolioId&quot;:10001,&quot;CustomerName&quot;:&quot;Jack Smith&quot;,&quot;Holdings&quot;:[{&quot;Tickersymbol&quot;:&quot;MSFT&quot;,&quot;Quantity&quot;:150},{&quot;Tickersymbol&quot;:&quot;GOOG&quot;,&quot;Quantity&quot;:100},{&quot;Tickersymbol&quot;:&quot;GM&quot;,&quot;Quantity&quot;:100}]},{&quot;PortfolioId&quot;:10002,&quot;CustomerName&quot;:&quot;Jane Doe&quot;,&quot;Holdings&quot;:[{&quot;Tickersymbol&quot;:&quot;MSFT&quot;,&quot;Quantity&quot;:200},{&quot;Tickersymbol&quot;:&quot;AMZN&quot;,&quot;Quantity&quot;:100},{&quot;Tickersymbol&quot;:&quot;KO&quot;,&quot;Quantity&quot;:300}]}]}</td></tr></table>"
                    }
                }
            ],
            "execution_count": 6
        }
    ]
}